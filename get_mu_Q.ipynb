{
  "nbformat": 4,
  "nbformat_minor": 0,
  "metadata": {
    "colab": {
      "name": "get_mu_Q.ipynb",
      "provenance": [],
      "authorship_tag": "ABX9TyPY8PgwBGY0Iv+4aKcfu7+U",
      "include_colab_link": true
    },
    "kernelspec": {
      "name": "python3",
      "display_name": "Python 3"
    }
  },
  "cells": [
    {
      "cell_type": "markdown",
      "metadata": {
        "id": "view-in-github",
        "colab_type": "text"
      },
      "source": [
        "<a href=\"https://colab.research.google.com/github/qkd8059/Capstone/blob/main/get_mu_Q.ipynb\" target=\"_parent\"><img src=\"https://colab.research.google.com/assets/colab-badge.svg\" alt=\"Open In Colab\"/></a>"
      ]
    },
    {
      "cell_type": "code",
      "metadata": {
        "id": "54rBM8PWIeJN"
      },
      "source": [
        "from factor_main import *\n",
        "from database_main import Database"
      ],
      "execution_count": null,
      "outputs": []
    },
    {
      "cell_type": "code",
      "metadata": {
        "colab": {
          "base_uri": "https://localhost:8080/"
        },
        "id": "iaIVxxw2JBwj",
        "outputId": "148ddb48-0300-41f5-a2e2-6fcdd1400cd9"
      },
      "source": [
        "!pip install dnspython\n",
        "!pip install hmmlearn"
      ],
      "execution_count": 2,
      "outputs": [
        {
          "output_type": "stream",
          "text": [
            "Requirement already satisfied: dnspython in /usr/local/lib/python3.6/dist-packages (2.0.0)\n",
            "Collecting hmmlearn\n",
            "\u001b[?25l  Downloading https://files.pythonhosted.org/packages/b3/49/9e9a89cee24b26ef6afec5abbd5eb9cf14632855f32b999389873ecb1b4e/hmmlearn-0.2.4-cp36-cp36m-manylinux1_x86_64.whl (361kB)\n",
            "\u001b[K     |████████████████████████████████| 368kB 8.1MB/s \n",
            "\u001b[?25hRequirement already satisfied: scipy>=0.19 in /usr/local/lib/python3.6/dist-packages (from hmmlearn) (1.4.1)\n",
            "Requirement already satisfied: numpy>=1.10 in /usr/local/lib/python3.6/dist-packages (from hmmlearn) (1.18.5)\n",
            "Requirement already satisfied: scikit-learn>=0.16 in /usr/local/lib/python3.6/dist-packages (from hmmlearn) (0.22.2.post1)\n",
            "Requirement already satisfied: joblib>=0.11 in /usr/local/lib/python3.6/dist-packages (from scikit-learn>=0.16->hmmlearn) (0.17.0)\n",
            "Installing collected packages: hmmlearn\n",
            "Successfully installed hmmlearn-0.2.4\n"
          ],
          "name": "stdout"
        }
      ]
    },
    {
      "cell_type": "code",
      "metadata": {
        "id": "_aO_vQB9I6Vl"
      },
      "source": [
        "data = factors_fit.read_asset('SP500Price')\n",
        "factors = RegimeSwitching.read_factor(start_date = '2005-09-30')\n",
        "market_factor = RegimeSwitching.get_marketfactor(factors)\n",
        "latent_state = RegimeSwitching.hmm_fit(np.array(market_factor).reshape(-1,1))\n",
        "regimes = RegimeSwitching.thresholding_regime(latent_state, 5)\n",
        "factors = RegimeSwitching.combine(factors,regimes)\n",
        "price_table, return_matrix = factors_fit.asset_return(data)\n",
        "[asset_return,factors_return,corresponding_regime] = factors_fit.factors_and_returns(return_matrix,factors)\n",
        "excess_return = factors_fit.get_excess_return(asset_return,factors_return)"
      ],
      "execution_count": 4,
      "outputs": []
    },
    {
      "cell_type": "code",
      "metadata": {
        "id": "xYlYDP50KKCa"
      },
      "source": [
        "#Rebalancing Period of 3 month\n",
        "lookback = 12\n",
        "mu_3month = []\n",
        "Q_3month = []\n",
        "for i in range(int(len(factors_return)/lookback)):\n",
        "  mu, Q = factors_fit.generate_factor(factors_return[0:(i+1)*lookback],excess_return[0:(i+1)*lookback])\n",
        "  mu_3month.append(mu)\n",
        "  Q_3month.append(Q)"
      ],
      "execution_count": 9,
      "outputs": []
    },
    {
      "cell_type": "code",
      "metadata": {
        "colab": {
          "base_uri": "https://localhost:8080/"
        },
        "id": "xNPFgoxeKvqn",
        "outputId": "9574769a-cc27-440b-b0e5-8e0087e7d8e6"
      },
      "source": [
        "print(len(mu_3month))"
      ],
      "execution_count": 12,
      "outputs": [
        {
          "output_type": "stream",
          "text": [
            "63\n"
          ],
          "name": "stdout"
        }
      ]
    },
    {
      "cell_type": "code",
      "metadata": {
        "id": "Tuy88k8fIxo2"
      },
      "source": [
        "#Rebalancing Period of 6 month\n",
        "lookback = 26\n",
        "mu_6month = []\n",
        "Q_6month = []\n",
        "for i in range(int(len(factors_return)/lookback)):\n",
        "  mu, Q = factors_fit.generate_factor(factors_return[0:(i+1)*lookback],excess_return[0:(i+1)*lookback])\n",
        "  mu_6month.append(mu)\n",
        "  Q_6month.append(Q)"
      ],
      "execution_count": 10,
      "outputs": []
    },
    {
      "cell_type": "code",
      "metadata": {
        "colab": {
          "base_uri": "https://localhost:8080/"
        },
        "id": "3_S0ODsvK8xY",
        "outputId": "3a563b5a-92a9-409b-bda6-f915a9630e4d"
      },
      "source": [
        "print(len(mu_6month))"
      ],
      "execution_count": 15,
      "outputs": [
        {
          "output_type": "stream",
          "text": [
            "29\n"
          ],
          "name": "stdout"
        }
      ]
    },
    {
      "cell_type": "code",
      "metadata": {
        "id": "AaEaaAkjK3D9"
      },
      "source": [
        "#Rebalancing Period of 12 month\n",
        "lookback = 52\n",
        "mu_12month = []\n",
        "Q_12month = []\n",
        "for i in range(int(len(factors_return)/lookback)):\n",
        "  mu, Q = factors_fit.generate_factor(factors_return[0:(i+1)*lookback],excess_return[0:(i+1)*lookback])\n",
        "  mu_12month.append(mu)\n",
        "  Q_12month.append(Q)"
      ],
      "execution_count": 14,
      "outputs": []
    },
    {
      "cell_type": "code",
      "metadata": {
        "colab": {
          "base_uri": "https://localhost:8080/"
        },
        "id": "TQ_-JikpK0iF",
        "outputId": "66bb93b3-03f2-47a5-b9b8-1ee6eab7766f"
      },
      "source": [
        "print(len(mu_12month))"
      ],
      "execution_count": 16,
      "outputs": [
        {
          "output_type": "stream",
          "text": [
            "14\n"
          ],
          "name": "stdout"
        }
      ]
    },
    {
      "cell_type": "code",
      "metadata": {
        "id": "MA2WrHE3LAp8"
      },
      "source": [
        "#Rebalancing Period of 24 month\n",
        "lookback = 104\n",
        "mu_24month = []\n",
        "Q_24month = []\n",
        "for i in range(int(len(factors_return)/lookback)):\n",
        "  mu, Q = factors_fit.generate_factor(factors_return[0:(i+1)*lookback],excess_return[0:(i+1)*lookback])\n",
        "  mu_24month.append(mu)\n",
        "  Q_24month.append(Q)"
      ],
      "execution_count": 17,
      "outputs": []
    },
    {
      "cell_type": "code",
      "metadata": {
        "colab": {
          "base_uri": "https://localhost:8080/"
        },
        "id": "JC3L6sGtLFhp",
        "outputId": "ae55d331-e0b4-496b-80df-954c5012074d"
      },
      "source": [
        "print(len(mu_24month))"
      ],
      "execution_count": 19,
      "outputs": [
        {
          "output_type": "stream",
          "text": [
            "7\n"
          ],
          "name": "stdout"
        }
      ]
    },
    {
      "cell_type": "code",
      "metadata": {
        "colab": {
          "base_uri": "https://localhost:8080/"
        },
        "id": "Nqm61USsLI63",
        "outputId": "2d6a4ccc-2375-4d55-80f5-2ed952e56197"
      },
      "source": [
        "#Put together: \n",
        "#Rebalancing Period of 3 month\n",
        "lookback = 12\n",
        "mu_3month = []\n",
        "Q_3month = []\n",
        "for i in range(int(len(factors_return)/lookback)):\n",
        "  mu, Q = factors_fit.generate_factor(factors_return[0:(i+1)*lookback],excess_return[0:(i+1)*lookback])\n",
        "  mu_3month.append(mu)\n",
        "  Q_3month.append(Q)\n",
        "print(len(mu_3month))\n",
        "#Rebalancing Period of 6 month\n",
        "lookback = 26\n",
        "mu_6month = []\n",
        "Q_6month = []\n",
        "for i in range(int(len(factors_return)/lookback)):\n",
        "  mu, Q = factors_fit.generate_factor(factors_return[0:(i+1)*lookback],excess_return[0:(i+1)*lookback])\n",
        "  mu_6month.append(mu)\n",
        "  Q_6month.append(Q)\n",
        "print(len(mu_6month))\n",
        "#Rebalancing Period of 12 month\n",
        "lookback = 52\n",
        "mu_12month = []\n",
        "Q_12month = []\n",
        "for i in range(int(len(factors_return)/lookback)):\n",
        "  mu, Q = factors_fit.generate_factor(factors_return[0:(i+1)*lookback],excess_return[0:(i+1)*lookback])\n",
        "  mu_12month.append(mu)\n",
        "  Q_12month.append(Q)\n",
        "print(len(mu_12month))\n",
        "#Rebalancing Period of 24 month\n",
        "lookback = 104\n",
        "mu_24month = []\n",
        "Q_24month = []\n",
        "for i in range(int(len(factors_return)/lookback)):\n",
        "  mu, Q = factors_fit.generate_factor(factors_return[0:(i+1)*lookback],excess_return[0:(i+1)*lookback])\n",
        "  mu_24month.append(mu)\n",
        "  Q_24month.append(Q)\n",
        "print(len(mu_24month))"
      ],
      "execution_count": 20,
      "outputs": [
        {
          "output_type": "stream",
          "text": [
            "63\n",
            "29\n",
            "14\n",
            "7\n"
          ],
          "name": "stdout"
        }
      ]
    }
  ]
}